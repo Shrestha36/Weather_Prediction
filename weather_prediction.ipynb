{
  "nbformat": 4,
  "nbformat_minor": 0,
  "metadata": {
    "colab": {
      "name": "weather prediction.ipynb",
      "provenance": [],
      "include_colab_link": true
    },
    "kernelspec": {
      "name": "python3",
      "display_name": "Python 3"
    },
    "language_info": {
      "name": "python"
    }
  },
  "cells": [
    {
      "cell_type": "markdown",
      "metadata": {
        "id": "view-in-github",
        "colab_type": "text"
      },
      "source": [
        "<a href=\"https://colab.research.google.com/github/Shrestha36/Weather_Prediction/blob/main/weather_prediction.ipynb\" target=\"_parent\"><img src=\"https://colab.research.google.com/assets/colab-badge.svg\" alt=\"Open In Colab\"/></a>"
      ]
    },
    {
      "cell_type": "code",
      "execution_count": null,
      "metadata": {
        "colab": {
          "base_uri": "https://localhost:8080/"
        },
        "id": "8rkZEb90-tY9",
        "outputId": "14b40ac7-b65c-47a8-9e78-e588bbeec46a"
      },
      "outputs": [
        {
          "output_type": "stream",
          "name": "stdout",
          "text": [
            "Our array is:\n",
            "[[1 2 3]\n",
            " [3 4 5]\n",
            " [4 5 6]]\n",
            "\n",
            "\n",
            "The items in the second column are:\n",
            "[2 4 5]\n",
            "\n",
            "\n",
            "The items in the second row are:\n",
            "[3 4 5]\n",
            "\n",
            "\n",
            "The items column 1 onwards are:\n",
            "[[2 3]\n",
            " [4 5]\n",
            " [5 6]]\n"
          ]
        }
      ],
      "source": [
        "import numpy as np\n",
        "a = np.array([[1,2,3],[3,4,5],[4,5,6]])\n",
        "print('Our array is:')\n",
        "print(a)\n",
        "print('\\n')\n",
        "print('The items in the second column are:')\n",
        "print(a[...,1])\n",
        "print('\\n')\n",
        "print('The items in the second row are:')\n",
        "print(a[1,...])\n",
        "print('\\n')\n",
        "print('The items column 1 onwards are:')\n",
        "print(a[...,1:])\n"
      ]
    },
    {
      "cell_type": "code",
      "source": [
        "print(int(\"30\"+\"40\"))"
      ],
      "metadata": {
        "colab": {
          "base_uri": "https://localhost:8080/"
        },
        "id": "k5Aqs8gNF0MI",
        "outputId": "ef0e0e1f-52a0-459c-bfc7-a8d0f2e579c2"
      },
      "execution_count": null,
      "outputs": [
        {
          "output_type": "stream",
          "name": "stdout",
          "text": [
            "3040\n"
          ]
        }
      ]
    },
    {
      "cell_type": "code",
      "source": [
        "import matplotlib.pyplot as plt\n",
        "import numpy as np\n",
        "a = np.linespace(0,10,100) \n",
        "b = np.exp(-a) \n",
        "plt.plot(a,b)\n",
        "plt.show()"
      ],
      "metadata": {
        "colab": {
          "base_uri": "https://localhost:8080/",
          "height": 265
        },
        "id": "6u6_0he1_UMb",
        "outputId": "30d083d1-154a-4774-b980-4b8835e0e063"
      },
      "execution_count": null,
      "outputs": [
        {
          "output_type": "display_data",
          "data": {
            "text/plain": [
              "<Figure size 432x288 with 1 Axes>"
            ],
            "image/png": "[encoded data removed]"
          },
          "metadata": {
            "needs_background": "light"
          }
        }
      ]
    },
    {
      "cell_type": "code",
      "source": [
        "import numpy as np  # linear algebra\n",
        "import pandas as pd # data processing, CSV file I/O (e.g. pd.read_csv)\n",
        "import matplotlib.pyplot as plt  #generating graphs"
      ],
      "metadata": {
        "id": "2CYr4J-dCtNY"
      },
      "execution_count": null,
      "outputs": []
    },
    {
      "cell_type": "code",
      "source": [
        "import numpy as np\n",
        "import pandas as pd\n",
        "import matplotlib.pyplot as plt\n",
        "from google.colab import files\n",
        "uploaded = files.upload()\n",
        "\n"
      ],
      "metadata": {
        "id": "SeeuS3LCG2gM",
        "outputId": "8029e5ae-899c-4f74-851f-8ed44bc6d7e6",
        "colab": {
          "resources": {
            "http://localhost:8080/nbextensions/google.colab/files.js": {
              "data": "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",
              "ok": true,
              "headers": [
                [
                  "content-type",
                  "application/javascript"
                ]
              ],
              "status": 200,
              "status_text": ""
            }
          },
          "base_uri": "https://localhost:8080/",
          "height": 73
        }
      },
      "execution_count": null,
      "outputs": [
        {
          "output_type": "display_data",
          "data": {
            "text/plain": [
              "<IPython.core.display.HTML object>"
            ],
            "text/html": [
              "\n",
              "     <input type=\"file\" id=\"files-683b0a88-e397-4949-a17a-5a10a36cab4c\" name=\"files[]\" multiple disabled\n",
              "        style=\"border:none\" />\n",
              "     <output id=\"result-683b0a88-e397-4949-a17a-5a10a36cab4c\">\n",
              "      Upload widget is only available when the cell has been executed in the\n",
              "      current browser session. Please rerun this cell to enable.\n",
              "      </output>\n",
              "      <script src=\"/nbextensions/google.colab/files.js\"></script> "
            ]
          },
          "metadata": {}
        },
        {
          "output_type": "stream",
          "name": "stdout",
          "text": [
            "Saving Weather2.csv.csv to Weather2.csv.csv\n"
          ]
        }
      ]
    },
    {
      "cell_type": "code",
      "source": [
        "dataset.shape()"
      ],
      "metadata": {
        "colab": {
          "base_uri": "https://localhost:8080/"
        },
        "id": "SeoOIYEEJdzr",
        "outputId": "fe9181ed-74d2-4e33-9090-bd5698591805"
      },
      "execution_count": null,
      "outputs": [
        {
          "output_type": "execute_result",
          "data": {
            "text/plain": [
              "(117, 14)"
            ]
          },
          "metadata": {},
          "execution_count": 15
        }
      ]
    },
    {
      "cell_type": "code",
      "source": [
        "dataset.head()"
      ],
      "metadata": {
        "colab": {
          "base_uri": "https://localhost:8080/",
          "height": 213
        },
        "id": "XmVGcCQuJhjt",
        "outputId": "c8fd70eb-2b73-4242-8c19-4c0386776ed1"
      },
      "execution_count": null,
      "outputs": [
        {
          "output_type": "execute_result",
          "data": {
            "text/plain": [
              "   Unnamed: 0  YEAR    JAN    FEB    MAR    APR    MAY    JUN    JUL    AUG  \\\n",
              "0           0  1901  17.99  19.43  23.49  26.41  28.28  28.60  27.49  26.98   \n",
              "1           1  1902  19.00  20.39  24.10  26.54  28.68  28.44  27.29  27.05   \n",
              "2           2  1903  18.32  19.79  22.46  26.03  27.93  28.41  28.04  26.63   \n",
              "3           3  1904  17.77  19.39  22.95  26.73  27.83  27.85  26.84  26.73   \n",
              "4           4  1905  17.40  17.79  21.78  24.84  28.32  28.69  27.67  27.47   \n",
              "\n",
              "     SEP    OCT    NOV    DEC  \n",
              "0  26.26  25.08  21.73  18.95  \n",
              "1  25.95  24.37  21.33  18.78  \n",
              "2  26.34  24.57  20.96  18.29  \n",
              "3  25.84  24.36  21.07  18.84  \n",
              "4  26.29  26.16  22.07  18.71  "
            ],
            "text/html": [
              "\n",
              "  <div id=\"df-33ff6045-19ee-4ffc-b18b-422365882fb4\">\n",
              "    <div class=\"colab-df-container\">\n",
              "      <div>\n",
              "<style scoped>\n",
              "    .dataframe tbody tr th:only-of-type {\n",
              "        vertical-align: middle;\n",
              "    }\n",
              "\n",
              "    .dataframe tbody tr th {\n",
              "        vertical-align: top;\n",
              "    }\n",
              "\n",
              "    .dataframe thead th {\n",
              "        text-align: right;\n",
              "    }\n",
              "</style>\n",
              "<table border=\"1\" class=\"dataframe\">\n",
              "  <thead>\n",
              "    <tr style=\"text-align: right;\">\n",
              "      <th></th>\n",
              "      <th>Unnamed: 0</th>\n",
              "      <th>YEAR</th>\n",
              "      <th>JAN</th>\n",
              "      <th>FEB</th>\n",
              "      <th>MAR</th>\n",
              "      <th>APR</th>\n",
              "      <th>MAY</th>\n",
              "      <th>JUN</th>\n",
              "      <th>JUL</th>\n",
              "      <th>AUG</th>\n",
              "      <th>SEP</th>\n",
              "      <th>OCT</th>\n",
              "      <th>NOV</th>\n",
              "      <th>DEC</th>\n",
              "    </tr>\n",
              "  </thead>\n",
              "  <tbody>\n",
              "    <tr>\n",
              "      <th>0</th>\n",
              "      <td>0</td>\n",
              "      <td>1901</td>\n",
              "      <td>17.99</td>\n",
              "      <td>19.43</td>\n",
              "      <td>23.49</td>\n",
              "      <td>26.41</td>\n",
              "      <td>28.28</td>\n",
              "      <td>28.60</td>\n",
              "      <td>27.49</td>\n",
              "      <td>26.98</td>\n",
              "      <td>26.26</td>\n",
              "      <td>25.08</td>\n",
              "      <td>21.73</td>\n",
              "      <td>18.95</td>\n",
              "    </tr>\n",
              "    <tr>\n",
              "      <th>1</th>\n",
              "      <td>1</td>\n",
              "      <td>1902</td>\n",
              "      <td>19.00</td>\n",
              "      <td>20.39</td>\n",
              "      <td>24.10</td>\n",
              "      <td>26.54</td>\n",
              "      <td>28.68</td>\n",
              "      <td>28.44</td>\n",
              "      <td>27.29</td>\n",
              "      <td>27.05</td>\n",
              "      <td>25.95</td>\n",
              "      <td>24.37</td>\n",
              "      <td>21.33</td>\n",
              "      <td>18.78</td>\n",
              "    </tr>\n",
              "    <tr>\n",
              "      <th>2</th>\n",
              "      <td>2</td>\n",
              "      <td>1903</td>\n",
              "      <td>18.32</td>\n",
              "      <td>19.79</td>\n",
              "      <td>22.46</td>\n",
              "      <td>26.03</td>\n",
              "      <td>27.93</td>\n",
              "      <td>28.41</td>\n",
              "      <td>28.04</td>\n",
              "      <td>26.63</td>\n",
              "      <td>26.34</td>\n",
              "      <td>24.57</td>\n",
              "      <td>20.96</td>\n",
              "      <td>18.29</td>\n",
              "    </tr>\n",
              "    <tr>\n",
              "      <th>3</th>\n",
              "      <td>3</td>\n",
              "      <td>1904</td>\n",
              "      <td>17.77</td>\n",
              "      <td>19.39</td>\n",
              "      <td>22.95</td>\n",
              "      <td>26.73</td>\n",
              "      <td>27.83</td>\n",
              "      <td>27.85</td>\n",
              "      <td>26.84</td>\n",
              "      <td>26.73</td>\n",
              "      <td>25.84</td>\n",
              "      <td>24.36</td>\n",
              "      <td>21.07</td>\n",
              "      <td>18.84</td>\n",
              "    </tr>\n",
              "    <tr>\n",
              "      <th>4</th>\n",
              "      <td>4</td>\n",
              "      <td>1905</td>\n",
              "      <td>17.40</td>\n",
              "      <td>17.79</td>\n",
              "      <td>21.78</td>\n",
              "      <td>24.84</td>\n",
              "      <td>28.32</td>\n",
              "      <td>28.69</td>\n",
              "      <td>27.67</td>\n",
              "      <td>27.47</td>\n",
              "      <td>26.29</td>\n",
              "      <td>26.16</td>\n",
              "      <td>22.07</td>\n",
              "      <td>18.71</td>\n",
              "    </tr>\n",
              "  </tbody>\n",
              "</table>\n",
              "</div>\n",
              "      <button class=\"colab-df-convert\" onclick=\"convertToInteractive('df-33ff6045-19ee-4ffc-b18b-422365882fb4')\"\n",
              "              title=\"Convert this dataframe to an interactive table.\"\n",
              "              style=\"display:none;\">\n",
              "        \n",
              "  <svg xmlns=\"http://www.w3.org/2000/svg\" height=\"24px\"viewBox=\"0 0 24 24\"\n",
              "       width=\"24px\">\n",
              "    <path d=\"M0 0h24v24H0V0z\" fill=\"none\"/>\n",
              "    <path d=\"M18.56 5.44l.94 2.06.94-2.06 2.06-.94-2.06-.94-.94-2.06-.94 2.06-2.06.94zm-11 1L8.5 8.5l.94-2.06 2.06-.94-2.06-.94L8.5 2.5l-.94 2.06-2.06.94zm10 10l.94 2.06.94-2.06 2.06-.94-2.06-.94-.94-2.06-.94 2.06-2.06.94z\"/><path d=\"M17.41 7.96l-1.37-1.37c-.4-.4-.92-.59-1.43-.59-.52 0-1.04.2-1.43.59L10.3 9.45l-7.72 7.72c-.78.78-.78 2.05 0 2.83L4 21.41c.39.39.9.59 1.41.59.51 0 1.02-.2 1.41-.59l7.78-7.78 2.81-2.81c.8-.78.8-2.07 0-2.86zM5.41 20L4 18.59l7.72-7.72 1.47 1.35L5.41 20z\"/>\n",
              "  </svg>\n",
              "      </button>\n",
              "      \n",
              "  <style>\n",
              "    .colab-df-container {\n",
              "      display:flex;\n",
              "      flex-wrap:wrap;\n",
              "      gap: 12px;\n",
              "    }\n",
              "\n",
              "    .colab-df-convert {\n",
              "      background-color: #E8F0FE;\n",
              "      border: none;\n",
              "      border-radius: 50%;\n",
              "      cursor: pointer;\n",
              "      display: none;\n",
              "      fill: #1967D2;\n",
              "      height: 32px;\n",
              "      padding: 0 0 0 0;\n",
              "      width: 32px;\n",
              "    }\n",
              "\n",
              "    .colab-df-convert:hover {\n",
              "      background-color: #E2EBFA;\n",
              "      box-shadow: 0px 1px 2px rgba(60, 64, 67, 0.3), 0px 1px 3px 1px rgba(60, 64, 67, 0.15);\n",
              "      fill: #174EA6;\n",
              "    }\n",
              "\n",
              "    [theme=dark] .colab-df-convert {\n",
              "      background-color: #3B4455;\n",
              "      fill: #D2E3FC;\n",
              "    }\n",
              "\n",
              "    [theme=dark] .colab-df-convert:hover {\n",
              "      background-color: #434B5C;\n",
              "      box-shadow: 0px 1px 3px 1px rgba(0, 0, 0, 0.15);\n",
              "      filter: drop-shadow(0px 1px 2px rgba(0, 0, 0, 0.3));\n",
              "      fill: #FFFFFF;\n",
              "    }\n",
              "  </style>\n",
              "\n",
              "      <script>\n",
              "        const buttonEl =\n",
              "          document.querySelector('#df-33ff6045-19ee-4ffc-b18b-422365882fb4 button.colab-df-convert');\n",
              "        buttonEl.style.display =\n",
              "          google.colab.kernel.accessAllowed ? 'block' : 'none';\n",
              "\n",
              "        async function convertToInteractive(key) {\n",
              "          const element = document.querySelector('#df-33ff6045-19ee-4ffc-b18b-422365882fb4');\n",
              "          const dataTable =\n",
              "            await google.colab.kernel.invokeFunction('convertToInteractive',\n",
              "                                                     [key], {});\n",
              "          if (!dataTable) return;\n",
              "\n",
              "          const docLinkHtml = 'Like what you see? Visit the ' +\n",
              "            '<a target=\"_blank\" href=https://colab.research.google.com/notebooks/data_table.ipynb>data table notebook</a>'\n",
              "            + ' to learn more about interactive tables.';\n",
              "          element.innerHTML = '';\n",
              "          dataTable['output_type'] = 'display_data';\n",
              "          await google.colab.output.renderOutput(dataTable, element);\n",
              "          const docLink = document.createElement('div');\n",
              "          docLink.innerHTML = docLinkHtml;\n",
              "          element.appendChild(docLink);\n",
              "        }\n",
              "      </script>\n",
              "    </div>\n",
              "  </div>\n",
              "  "
            ]
          },
          "metadata": {},
          "execution_count": 16
        }
      ]
    },
    {
      "cell_type": "code",
      "source": [
        "dataset.describe()"
      ],
      "metadata": {
        "colab": {
          "base_uri": "https://localhost:8080/",
          "height": 295
        },
        "id": "e8SuS5emJoYR",
        "outputId": "d167f6e3-58c3-4149-deee-7fb0c7430588"
      },
      "execution_count": null,
      "outputs": [
        {
          "output_type": "execute_result",
          "data": {
            "text/plain": [
              "       Unnamed: 0         YEAR         JAN         FEB         MAR  \\\n",
              "count  117.000000   117.000000  117.000000  117.000000  117.000000   \n",
              "mean    58.000000  1959.000000   18.423248   20.137949   23.434188   \n",
              "std     33.919021    33.919021    0.612963    0.900944    0.862825   \n",
              "min      0.000000  1901.000000   17.250000   17.790000   21.780000   \n",
              "25%     29.000000  1930.000000   18.070000   19.470000   22.840000   \n",
              "50%     58.000000  1959.000000   18.350000   19.990000   23.330000   \n",
              "75%     87.000000  1988.000000   18.720000   20.550000   23.930000   \n",
              "max    116.000000  2017.000000   20.920000   23.580000   26.610000   \n",
              "\n",
              "              APR         MAY         JUN         JUL         AUG         SEP  \\\n",
              "count  117.000000  117.000000  117.000000  117.000000  117.000000  117.000000   \n",
              "mean    26.514103   28.386410   28.300940   27.369231   26.940085   26.342650   \n",
              "std      0.750740    0.644678    0.460603    0.345920    0.348876    0.387789   \n",
              "min     24.840000   26.970000   27.330000   26.480000   26.210000   25.470000   \n",
              "25%     26.000000   27.950000   28.020000   27.150000   26.730000   26.110000   \n",
              "50%     26.540000   28.340000   28.250000   27.340000   26.900000   26.310000   \n",
              "75%     26.910000   28.820000   28.580000   27.530000   27.150000   26.500000   \n",
              "max     29.560000   30.780000   29.880000   28.470000   28.170000   28.110000   \n",
              "\n",
              "              OCT         NOV         DEC  \n",
              "count  117.000000  117.000000  117.000000  \n",
              "mean    24.742051   21.765726   19.173333  \n",
              "std      0.563152    0.634183    0.635912  \n",
              "min     23.520000   20.590000   17.980000  \n",
              "25%     24.390000   21.320000   18.780000  \n",
              "50%     24.670000   21.720000   19.180000  \n",
              "75%     24.920000   22.150000   19.550000  \n",
              "max     27.240000   23.920000   21.890000  "
            ],
            "text/html": [
              "\n",
              "  <div id=\"df-85e3e570-34b4-4fca-9471-5ded6d7e04dd\">\n",
              "    <div class=\"colab-df-container\">\n",
              "      <div>\n",
              "<style scoped>\n",
              "    .dataframe tbody tr th:only-of-type {\n",
              "        vertical-align: middle;\n",
              "    }\n",
              "\n",
              "    .dataframe tbody tr th {\n",
              "        vertical-align: top;\n",
              "    }\n",
              "\n",
              "    .dataframe thead th {\n",
              "        text-align: right;\n",
              "    }\n",
              "</style>\n",
              "<table border=\"1\" class=\"dataframe\">\n",
              "  <thead>\n",
              "    <tr style=\"text-align: right;\">\n",
              "      <th></th>\n",
              "      <th>Unnamed: 0</th>\n",
              "      <th>YEAR</th>\n",
              "      <th>JAN</th>\n",
              "      <th>FEB</th>\n",
              "      <th>MAR</th>\n",
              "      <th>APR</th>\n",
              "      <th>MAY</th>\n",
              "      <th>JUN</th>\n",
              "      <th>JUL</th>\n",
              "      <th>AUG</th>\n",
              "      <th>SEP</th>\n",
              "      <th>OCT</th>\n",
              "      <th>NOV</th>\n",
              "      <th>DEC</th>\n",
              "    </tr>\n",
              "  </thead>\n",
              "  <tbody>\n",
              "    <tr>\n",
              "      <th>count</th>\n",
              "      <td>117.000000</td>\n",
              "      <td>117.000000</td>\n",
              "      <td>117.000000</td>\n",
              "      <td>117.000000</td>\n",
              "      <td>117.000000</td>\n",
              "      <td>117.000000</td>\n",
              "      <td>117.000000</td>\n",
              "      <td>117.000000</td>\n",
              "      <td>117.000000</td>\n",
              "      <td>117.000000</td>\n",
              "      <td>117.000000</td>\n",
              "      <td>117.000000</td>\n",
              "      <td>117.000000</td>\n",
              "      <td>117.000000</td>\n",
              "    </tr>\n",
              "    <tr>\n",
              "      <th>mean</th>\n",
              "      <td>58.000000</td>\n",
              "      <td>1959.000000</td>\n",
              "      <td>18.423248</td>\n",
              "      <td>20.137949</td>\n",
              "      <td>23.434188</td>\n",
              "      <td>26.514103</td>\n",
              "      <td>28.386410</td>\n",
              "      <td>28.300940</td>\n",
              "      <td>27.369231</td>\n",
              "      <td>26.940085</td>\n",
              "      <td>26.342650</td>\n",
              "      <td>24.742051</td>\n",
              "      <td>21.765726</td>\n",
              "      <td>19.173333</td>\n",
              "    </tr>\n",
              "    <tr>\n",
              "      <th>std</th>\n",
              "      <td>33.919021</td>\n",
              "      <td>33.919021</td>\n",
              "      <td>0.612963</td>\n",
              "      <td>0.900944</td>\n",
              "      <td>0.862825</td>\n",
              "      <td>0.750740</td>\n",
              "      <td>0.644678</td>\n",
              "      <td>0.460603</td>\n",
              "      <td>0.345920</td>\n",
              "      <td>0.348876</td>\n",
              "      <td>0.387789</td>\n",
              "      <td>0.563152</td>\n",
              "      <td>0.634183</td>\n",
              "      <td>0.635912</td>\n",
              "    </tr>\n",
              "    <tr>\n",
              "      <th>min</th>\n",
              "      <td>0.000000</td>\n",
              "      <td>1901.000000</td>\n",
              "      <td>17.250000</td>\n",
              "      <td>17.790000</td>\n",
              "      <td>21.780000</td>\n",
              "      <td>24.840000</td>\n",
              "      <td>26.970000</td>\n",
              "      <td>27.330000</td>\n",
              "      <td>26.480000</td>\n",
              "      <td>26.210000</td>\n",
              "      <td>25.470000</td>\n",
              "      <td>23.520000</td>\n",
              "      <td>20.590000</td>\n",
              "      <td>17.980000</td>\n",
              "    </tr>\n",
              "    <tr>\n",
              "      <th>25%</th>\n",
              "      <td>29.000000</td>\n",
              "      <td>1930.000000</td>\n",
              "      <td>18.070000</td>\n",
              "      <td>19.470000</td>\n",
              "      <td>22.840000</td>\n",
              "      <td>26.000000</td>\n",
              "      <td>27.950000</td>\n",
              "      <td>28.020000</td>\n",
              "      <td>27.150000</td>\n",
              "      <td>26.730000</td>\n",
              "      <td>26.110000</td>\n",
              "      <td>24.390000</td>\n",
              "      <td>21.320000</td>\n",
              "      <td>18.780000</td>\n",
              "    </tr>\n",
              "    <tr>\n",
              "      <th>50%</th>\n",
              "      <td>58.000000</td>\n",
              "      <td>1959.000000</td>\n",
              "      <td>18.350000</td>\n",
              "      <td>19.990000</td>\n",
              "      <td>23.330000</td>\n",
              "      <td>26.540000</td>\n",
              "      <td>28.340000</td>\n",
              "      <td>28.250000</td>\n",
              "      <td>27.340000</td>\n",
              "      <td>26.900000</td>\n",
              "      <td>26.310000</td>\n",
              "      <td>24.670000</td>\n",
              "      <td>21.720000</td>\n",
              "      <td>19.180000</td>\n",
              "    </tr>\n",
              "    <tr>\n",
              "      <th>75%</th>\n",
              "      <td>87.000000</td>\n",
              "      <td>1988.000000</td>\n",
              "      <td>18.720000</td>\n",
              "      <td>20.550000</td>\n",
              "      <td>23.930000</td>\n",
              "      <td>26.910000</td>\n",
              "      <td>28.820000</td>\n",
              "      <td>28.580000</td>\n",
              "      <td>27.530000</td>\n",
              "      <td>27.150000</td>\n",
              "      <td>26.500000</td>\n",
              "      <td>24.920000</td>\n",
              "      <td>22.150000</td>\n",
              "      <td>19.550000</td>\n",
              "    </tr>\n",
              "    <tr>\n",
              "      <th>max</th>\n",
              "      <td>116.000000</td>\n",
              "      <td>2017.000000</td>\n",
              "      <td>20.920000</td>\n",
              "      <td>23.580000</td>\n",
              "      <td>26.610000</td>\n",
              "      <td>29.560000</td>\n",
              "      <td>30.780000</td>\n",
              "      <td>29.880000</td>\n",
              "      <td>28.470000</td>\n",
              "      <td>28.170000</td>\n",
              "      <td>28.110000</td>\n",
              "      <td>27.240000</td>\n",
              "      <td>23.920000</td>\n",
              "      <td>21.890000</td>\n",
              "    </tr>\n",
              "  </tbody>\n",
              "</table>\n",
              "</div>\n",
              "      <button class=\"colab-df-convert\" onclick=\"convertToInteractive('df-85e3e570-34b4-4fca-9471-5ded6d7e04dd')\"\n",
              "              title=\"Convert this dataframe to an interactive table.\"\n",
              "              style=\"display:none;\">\n",
              "        \n",
              "  <svg xmlns=\"http://www.w3.org/2000/svg\" height=\"24px\"viewBox=\"0 0 24 24\"\n",
              "       width=\"24px\">\n",
              "    <path d=\"M0 0h24v24H0V0z\" fill=\"none\"/>\n",
              "    <path d=\"M18.56 5.44l.94 2.06.94-2.06 2.06-.94-2.06-.94-.94-2.06-.94 2.06-2.06.94zm-11 1L8.5 8.5l.94-2.06 2.06-.94-2.06-.94L8.5 2.5l-.94 2.06-2.06.94zm10 10l.94 2.06.94-2.06 2.06-.94-2.06-.94-.94-2.06-.94 2.06-2.06.94z\"/><path d=\"M17.41 7.96l-1.37-1.37c-.4-.4-.92-.59-1.43-.59-.52 0-1.04.2-1.43.59L10.3 9.45l-7.72 7.72c-.78.78-.78 2.05 0 2.83L4 21.41c.39.39.9.59 1.41.59.51 0 1.02-.2 1.41-.59l7.78-7.78 2.81-2.81c.8-.78.8-2.07 0-2.86zM5.41 20L4 18.59l7.72-7.72 1.47 1.35L5.41 20z\"/>\n",
              "  </svg>\n",
              "      </button>\n",
              "      \n",
              "  <style>\n",
              "    .colab-df-container {\n",
              "      display:flex;\n",
              "      flex-wrap:wrap;\n",
              "      gap: 12px;\n",
              "    }\n",
              "\n",
              "    .colab-df-convert {\n",
              "      background-color: #E8F0FE;\n",
              "      border: none;\n",
              "      border-radius: 50%;\n",
              "      cursor: pointer;\n",
              "      display: none;\n",
              "      fill: #1967D2;\n",
              "      height: 32px;\n",
              "      padding: 0 0 0 0;\n",
              "      width: 32px;\n",
              "    }\n",
              "\n",
              "    .colab-df-convert:hover {\n",
              "      background-color: #E2EBFA;\n",
              "      box-shadow: 0px 1px 2px rgba(60, 64, 67, 0.3), 0px 1px 3px 1px rgba(60, 64, 67, 0.15);\n",
              "      fill: #174EA6;\n",
              "    }\n",
              "\n",
              "    [theme=dark] .colab-df-convert {\n",
              "      background-color: #3B4455;\n",
              "      fill: #D2E3FC;\n",
              "    }\n",
              "\n",
              "    [theme=dark] .colab-df-convert:hover {\n",
              "      background-color: #434B5C;\n",
              "      box-shadow: 0px 1px 3px 1px rgba(0, 0, 0, 0.15);\n",
              "      filter: drop-shadow(0px 1px 2px rgba(0, 0, 0, 0.3));\n",
              "      fill: #FFFFFF;\n",
              "    }\n",
              "  </style>\n",
              "\n",
              "      <script>\n",
              "        const buttonEl =\n",
              "          document.querySelector('#df-85e3e570-34b4-4fca-9471-5ded6d7e04dd button.colab-df-convert');\n",
              "        buttonEl.style.display =\n",
              "          google.colab.kernel.accessAllowed ? 'block' : 'none';\n",
              "\n",
              "        async function convertToInteractive(key) {\n",
              "          const element = document.querySelector('#df-85e3e570-34b4-4fca-9471-5ded6d7e04dd');\n",
              "          const dataTable =\n",
              "            await google.colab.kernel.invokeFunction('convertToInteractive',\n",
              "                                                     [key], {});\n",
              "          if (!dataTable) return;\n",
              "\n",
              "          const docLinkHtml = 'Like what you see? Visit the ' +\n",
              "            '<a target=\"_blank\" href=https://colab.research.google.com/notebooks/data_table.ipynb>data table notebook</a>'\n",
              "            + ' to learn more about interactive tables.';\n",
              "          element.innerHTML = '';\n",
              "          dataTable['output_type'] = 'display_data';\n",
              "          await google.colab.output.renderOutput(dataTable, element);\n",
              "          const docLink = document.createElement('div');\n",
              "          docLink.innerHTML = docLinkHtml;\n",
              "          element.appendChild(docLink);\n",
              "        }\n",
              "      </script>\n",
              "    </div>\n",
              "  </div>\n",
              "  "
            ]
          },
          "metadata": {},
          "execution_count": 17
        }
      ]
    },
    {
      "cell_type": "code",
      "source": [
        "x=dataset.iloc[ : , :-1].values\n",
        "y=dataset.iloc[ : ,1].values\n",
        "print(x)\n",
        "print(y)"
      ],
      "metadata": {
        "colab": {
          "base_uri": "https://localhost:8080/"
        },
        "id": "6DKcuKbHJuyP",
        "outputId": "20365a89-a8f8-4a4e-e981-9e7024b88267"
      },
      "execution_count": null,
      "outputs": [
        {
          "output_type": "stream",
          "name": "stdout",
          "text": [
            "[[0.000e+00 1.901e+03 1.799e+01 ... 2.626e+01 2.508e+01 2.173e+01]\n",
            " [1.000e+00 1.902e+03 1.900e+01 ... 2.595e+01 2.437e+01 2.133e+01]\n",
            " [2.000e+00 1.903e+03 1.832e+01 ... 2.634e+01 2.457e+01 2.096e+01]\n",
            " ...\n",
            " [1.140e+02 2.015e+03 1.902e+01 ... 2.704e+01 2.582e+01 2.295e+01]\n",
            " [1.150e+02 2.016e+03 2.092e+01 ... 2.772e+01 2.681e+01 2.390e+01]\n",
            " [1.160e+02 2.017e+03 2.059e+01 ... 2.811e+01 2.724e+01 2.392e+01]]\n",
            "[1901 1902 1903 1904 1905 1906 1907 1908 1909 1910 1911 1912 1913 1914\n",
            " 1915 1916 1917 1918 1919 1920 1921 1922 1923 1924 1925 1926 1927 1928\n",
            " 1929 1930 1931 1932 1933 1934 1935 1936 1937 1938 1939 1940 1941 1942\n",
            " 1943 1944 1945 1946 1947 1948 1949 1950 1951 1952 1953 1954 1955 1956\n",
            " 1957 1958 1959 1960 1961 1962 1963 1964 1965 1966 1967 1968 1969 1970\n",
            " 1971 1972 1973 1974 1975 1976 1977 1978 1979 1980 1981 1982 1983 1984\n",
            " 1985 1986 1987 1988 1989 1990 1991 1992 1993 1994 1995 1996 1997 1998\n",
            " 1999 2000 2001 2002 2003 2004 2005 2006 2007 2008 2009 2010 2011 2012\n",
            " 2013 2014 2015 2016 2017]\n"
          ]
        }
      ]
    },
    {
      "cell_type": "code",
      "source": [
        "from sklearn.model_selection import train_test_split\n",
        "x_train,x_test,y_train,y_test=train_test_split(x,y,test_size=0.20)\n",
        "print(\"training data x\",x_train)\n",
        "print(\"testing data x\",x_test)\n",
        "print(\"training data x\",y_train)\n",
        "print(\"testing data x\",x_test)"
      ],
      "metadata": {
        "colab": {
          "base_uri": "https://localhost:8080/"
        },
        "id": "FZ7T2t3-KWWy",
        "outputId": "0e5d95cf-525a-44d0-b29f-4790454408ad"
      },
      "execution_count": null,
      "outputs": [
        {
          "output_type": "stream",
          "name": "stdout",
          "text": [
            "training data x [[  81.   1982.     18.76 ...   26.4    24.89   21.84]\n",
            " [ 105.   2006.     19.96 ...   26.42   25.41   22.59]\n",
            " [ 115.   2016.     20.92 ...   27.72   26.81   23.9 ]\n",
            " ...\n",
            " [  97.   1998.     18.84 ...   26.7    25.27   22.48]\n",
            " [  32.   1933.     17.84 ...   25.86   24.35   21.67]\n",
            " [  51.   1952.     18.67 ...   26.48   24.72   21.41]]\n",
            "training data x [[   5.   1906.     17.5    19.14   22.21   26.53   29.06   28.02   27.46\n",
            "    26.82   26.23   24.75   21.93]\n",
            " [  41.   1942.     18.07   20.06   23.87   26.79   28.82   28.81   27.28\n",
            "    26.62   26.03   24.56   21.85]\n",
            " [  52.   1953.     18.11   20.86   24.9    26.8    28.99   28.79   27.35\n",
            "    26.91   26.24   24.67   21.49]\n",
            " [  82.   1983.     18.38   19.81   22.68   25.67   28.02   28.6    27.51\n",
            "    27.14   26.48   24.56   21.5 ]\n",
            " [  46.   1947.     17.72   19.84   23.55   26.88   28.82   28.82   27.41\n",
            "    27.46   26.28   24.67   21.78]\n",
            " [  65.   1966.     18.69   21.17   23.51   26.44   28.27   28.25   27.42\n",
            "    27.02   25.99   24.51   22.05]\n",
            " [ 103.   2004.     18.83   21.03   26.19   27.38   28.12   27.94   27.44\n",
            "    27.16   26.8    24.34   22.43]\n",
            " [  64.   1965.     18.47   19.96   22.81   25.35   27.57   28.44   27.14\n",
            "    26.49   26.25   24.99   22.16]\n",
            " [  14.   1915.     17.93   19.     22.69   26.23   29.17   28.58   27.77\n",
            "    27.32   26.82   25.46   22.18]\n",
            " [  44.   1945.     17.33   19.37   23.28   25.52   28.31   28.81   27.39\n",
            "    26.98   26.51   24.36   21.15]\n",
            " [  87.   1988.     18.58   20.83   23.51   26.6    28.6    28.37   27.12\n",
            "    26.91   26.48   24.79   21.63]\n",
            " [  66.   1967.     18.15   20.73   22.69   26.04   27.92   28.36   27.36\n",
            "    26.7    26.35   24.22   21.4 ]\n",
            " [  92.   1993.     18.37   20.84   22.71   26.5    28.73   28.5    27.24\n",
            "    27.29   26.34   24.88   22.2 ]\n",
            " [ 111.   2012.     18.25   20.43   23.98   26.89   28.72   28.91   27.98\n",
            "    27.31   26.65   24.85   22.26]\n",
            " [  89.   1990.     18.56   20.33   22.79   26.15   27.71   28.11   27.06\n",
            "    26.99   26.55   24.51   22.08]\n",
            " [ 101.   2002.     18.78   20.52   24.44   27.66   29.56   28.77   28.47\n",
            "    27.27   26.43   25.44   23.17]\n",
            " [  99.   2000.     18.87   19.78   23.22   27.27   28.92   28.02   27.34\n",
            "    26.98   26.53   25.58   22.75]\n",
            " [  23.   1924.     18.06   19.97   24.12   26.87   27.43   28.6    27.5\n",
            "    26.91   25.72   24.5    21.04]\n",
            " [  27.   1928.     18.66   20.13   23.23   26.44   28.88   28.22   27.28\n",
            "    26.9    26.32   24.92   21.77]\n",
            " [  19.   1920.     18.27   19.16   23.02   25.73   27.06   27.76   27.48\n",
            "    26.61   26.34   24.85   21.84]\n",
            " [  80.   1981.     18.4    20.44   23.26   26.65   28.51   28.4    27.28\n",
            "    26.85   26.36   24.74   21.43]\n",
            " [   3.   1904.     17.77   19.39   22.95   26.73   27.83   27.85   26.84\n",
            "    26.73   25.84   24.36   21.07]\n",
            " [  93.   1994.     19.33   20.2    24.14   26.04   28.72   28.56   27.34\n",
            "    27.01   26.31   24.56   22.06]\n",
            " [  55.   1956.     18.01   19.66   23.44   26.72   28.72   27.54   26.58\n",
            "    26.23   26.26   24.05   21.23]]\n",
            "training data x [1982 2006 2016 2014 1938 1972 1911 1955 1918 2008 1930 1986 1919 1997\n",
            " 2017 1999 1905 2009 1978 1995 1996 1976 1913 2011 1908 1963 1910 1974\n",
            " 1944 1927 1917 1973 1984 1985 1950 1960 1943 1954 2005 1962 1991 1948\n",
            " 1934 1932 1901 1957 2015 1925 1935 1970 1987 1949 1923 1937 1992 1903\n",
            " 1907 1969 2003 1939 1959 1912 1989 1979 1902 1980 1914 1946 1961 1941\n",
            " 1929 1921 2001 1951 1926 2010 1971 2007 1931 1909 1922 2013 1940 1964\n",
            " 1916 1977 1975 1936 1968 1958 1998 1933 1952]\n",
            "training data x [[   5.   1906.     17.5    19.14   22.21   26.53   29.06   28.02   27.46\n",
            "    26.82   26.23   24.75   21.93]\n",
            " [  41.   1942.     18.07   20.06   23.87   26.79   28.82   28.81   27.28\n",
            "    26.62   26.03   24.56   21.85]\n",
            " [  52.   1953.     18.11   20.86   24.9    26.8    28.99   28.79   27.35\n",
            "    26.91   26.24   24.67   21.49]\n",
            " [  82.   1983.     18.38   19.81   22.68   25.67   28.02   28.6    27.51\n",
            "    27.14   26.48   24.56   21.5 ]\n",
            " [  46.   1947.     17.72   19.84   23.55   26.88   28.82   28.82   27.41\n",
            "    27.46   26.28   24.67   21.78]\n",
            " [  65.   1966.     18.69   21.17   23.51   26.44   28.27   28.25   27.42\n",
            "    27.02   25.99   24.51   22.05]\n",
            " [ 103.   2004.     18.83   21.03   26.19   27.38   28.12   27.94   27.44\n",
            "    27.16   26.8    24.34   22.43]\n",
            " [  64.   1965.     18.47   19.96   22.81   25.35   27.57   28.44   27.14\n",
            "    26.49   26.25   24.99   22.16]\n",
            " [  14.   1915.     17.93   19.     22.69   26.23   29.17   28.58   27.77\n",
            "    27.32   26.82   25.46   22.18]\n",
            " [  44.   1945.     17.33   19.37   23.28   25.52   28.31   28.81   27.39\n",
            "    26.98   26.51   24.36   21.15]\n",
            " [  87.   1988.     18.58   20.83   23.51   26.6    28.6    28.37   27.12\n",
            "    26.91   26.48   24.79   21.63]\n",
            " [  66.   1967.     18.15   20.73   22.69   26.04   27.92   28.36   27.36\n",
            "    26.7    26.35   24.22   21.4 ]\n",
            " [  92.   1993.     18.37   20.84   22.71   26.5    28.73   28.5    27.24\n",
            "    27.29   26.34   24.88   22.2 ]\n",
            " [ 111.   2012.     18.25   20.43   23.98   26.89   28.72   28.91   27.98\n",
            "    27.31   26.65   24.85   22.26]\n",
            " [  89.   1990.     18.56   20.33   22.79   26.15   27.71   28.11   27.06\n",
            "    26.99   26.55   24.51   22.08]\n",
            " [ 101.   2002.     18.78   20.52   24.44   27.66   29.56   28.77   28.47\n",
            "    27.27   26.43   25.44   23.17]\n",
            " [  99.   2000.     18.87   19.78   23.22   27.27   28.92   28.02   27.34\n",
            "    26.98   26.53   25.58   22.75]\n",
            " [  23.   1924.     18.06   19.97   24.12   26.87   27.43   28.6    27.5\n",
            "    26.91   25.72   24.5    21.04]\n",
            " [  27.   1928.     18.66   20.13   23.23   26.44   28.88   28.22   27.28\n",
            "    26.9    26.32   24.92   21.77]\n",
            " [  19.   1920.     18.27   19.16   23.02   25.73   27.06   27.76   27.48\n",
            "    26.61   26.34   24.85   21.84]\n",
            " [  80.   1981.     18.4    20.44   23.26   26.65   28.51   28.4    27.28\n",
            "    26.85   26.36   24.74   21.43]\n",
            " [   3.   1904.     17.77   19.39   22.95   26.73   27.83   27.85   26.84\n",
            "    26.73   25.84   24.36   21.07]\n",
            " [  93.   1994.     19.33   20.2    24.14   26.04   28.72   28.56   27.34\n",
            "    27.01   26.31   24.56   22.06]\n",
            " [  55.   1956.     18.01   19.66   23.44   26.72   28.72   27.54   26.58\n",
            "    26.23   26.26   24.05   21.23]]\n"
          ]
        }
      ]
    },
    {
      "cell_type": "code",
      "source": [
        "from sklearn.linear_model import LinearRegression"
      ],
      "metadata": {
        "id": "MV0m_JQJKd7S"
      },
      "execution_count": null,
      "outputs": []
    },
    {
      "cell_type": "code",
      "source": [
        "regressor=LinearRegression()\n",
        "regressor.fit(x_train,y_train)"
      ],
      "metadata": {
        "colab": {
          "base_uri": "https://localhost:8080/"
        },
        "id": "Zynb_mbKKiyB",
        "outputId": "209389d6-a2c5-40ef-d4a8-a723e7b6c349"
      },
      "execution_count": null,
      "outputs": [
        {
          "output_type": "execute_result",
          "data": {
            "text/plain": [
              "LinearRegression()"
            ]
          },
          "metadata": {},
          "execution_count": 24
        }
      ]
    },
    {
      "cell_type": "code",
      "source": [
        "print(regressor.intercept_)"
      ],
      "metadata": {
        "colab": {
          "base_uri": "https://localhost:8080/"
        },
        "id": "lOyzv4CjKlYB",
        "outputId": "60d0e2f3-1bd1-4f11-fe3b-9ace38636d9c"
      },
      "execution_count": null,
      "outputs": [
        {
          "output_type": "stream",
          "name": "stdout",
          "text": [
            "950.5000000000003\n"
          ]
        }
      ]
    },
    {
      "cell_type": "code",
      "source": [
        "print(regressor.coef_)"
      ],
      "metadata": {
        "colab": {
          "base_uri": "https://localhost:8080/"
        },
        "id": "WGSmdvPrKoWZ",
        "outputId": "7cda4f7a-3514-4727-be62-98b8599436b0"
      },
      "execution_count": null,
      "outputs": [
        {
          "output_type": "stream",
          "name": "stdout",
          "text": [
            "[ 5.00000000e-01  5.00000000e-01 -1.29670580e-16 -6.15826834e-17\n",
            "  4.03323208e-16 -2.57606436e-16  3.47812057e-16 -4.25007252e-17\n",
            " -1.72171305e-16 -1.02348685e-16 -4.54497551e-16 -3.10515502e-16\n",
            "  1.55257751e-16]\n"
          ]
        }
      ]
    },
    {
      "cell_type": "code",
      "source": [
        "y_pred=regressor.predict(x_test)\n",
        "print(y_pred)"
      ],
      "metadata": {
        "colab": {
          "base_uri": "https://localhost:8080/"
        },
        "id": "f-veI6pDKq_5",
        "outputId": "fe0352c9-f15b-4e0d-fbd6-3b5c555824d0"
      },
      "execution_count": null,
      "outputs": [
        {
          "output_type": "stream",
          "name": "stdout",
          "text": [
            "[1906. 1942. 1953. 1983. 1947. 1966. 2004. 1965. 1915. 1945. 1988. 1967.\n",
            " 1993. 2012. 1990. 2002. 2000. 1924. 1928. 1920. 1981. 1904. 1994. 1956.]\n"
          ]
        }
      ]
    },
    {
      "cell_type": "code",
      "source": [
        "df=pd.DataFrame({'Actual':y_test,'predicted':y_pred})\n",
        "df"
      ],
      "metadata": {
        "colab": {
          "base_uri": "https://localhost:8080/",
          "height": 623
        },
        "id": "SN3D-UvPKtde",
        "outputId": "7ba9d081-3722-4244-a55e-7cfe0cac0077"
      },
      "execution_count": null,
      "outputs": [
        {
          "output_type": "execute_result",
          "data": {
            "text/plain": [
              "    Actual  predicted\n",
              "0     1906     1906.0\n",
              "1     1942     1942.0\n",
              "2     1953     1953.0\n",
              "3     1983     1983.0\n",
              "4     1947     1947.0\n",
              "5     1966     1966.0\n",
              "6     2004     2004.0\n",
              "7     1965     1965.0\n",
              "8     1915     1915.0\n",
              "9     1945     1945.0\n",
              "10    1988     1988.0\n",
              "11    1967     1967.0\n",
              "12    1993     1993.0\n",
              "13    2012     2012.0\n",
              "14    1990     1990.0\n",
              "15    2002     2002.0\n",
              "16    2000     2000.0\n",
              "17    1924     1924.0\n",
              "18    1928     1928.0\n",
              "19    1920     1920.0\n",
              "20    1981     1981.0\n",
              "21    1904     1904.0\n",
              "22    1994     1994.0\n",
              "23    1956     1956.0"
            ],
            "text/html": [
              "\n",
              "  <div id=\"df-4171ec3e-7dd0-4ffc-8d56-61df96a56f2d\">\n",
              "    <div class=\"colab-df-container\">\n",
              "      <div>\n",
              "<style scoped>\n",
              "    .dataframe tbody tr th:only-of-type {\n",
              "        vertical-align: middle;\n",
              "    }\n",
              "\n",
              "    .dataframe tbody tr th {\n",
              "        vertical-align: top;\n",
              "    }\n",
              "\n",
              "    .dataframe thead th {\n",
              "        text-align: right;\n",
              "    }\n",
              "</style>\n",
              "<table border=\"1\" class=\"dataframe\">\n",
              "  <thead>\n",
              "    <tr style=\"text-align: right;\">\n",
              "      <th></th>\n",
              "      <th>Actual</th>\n",
              "      <th>predicted</th>\n",
              "    </tr>\n",
              "  </thead>\n",
              "  <tbody>\n",
              "    <tr>\n",
              "      <th>0</th>\n",
              "      <td>1906</td>\n",
              "      <td>1906.0</td>\n",
              "    </tr>\n",
              "    <tr>\n",
              "      <th>1</th>\n",
              "      <td>1942</td>\n",
              "      <td>1942.0</td>\n",
              "    </tr>\n",
              "    <tr>\n",
              "      <th>2</th>\n",
              "      <td>1953</td>\n",
              "      <td>1953.0</td>\n",
              "    </tr>\n",
              "    <tr>\n",
              "      <th>3</th>\n",
              "      <td>1983</td>\n",
              "      <td>1983.0</td>\n",
              "    </tr>\n",
              "    <tr>\n",
              "      <th>4</th>\n",
              "      <td>1947</td>\n",
              "      <td>1947.0</td>\n",
              "    </tr>\n",
              "    <tr>\n",
              "      <th>5</th>\n",
              "      <td>1966</td>\n",
              "      <td>1966.0</td>\n",
              "    </tr>\n",
              "    <tr>\n",
              "      <th>6</th>\n",
              "      <td>2004</td>\n",
              "      <td>2004.0</td>\n",
              "    </tr>\n",
              "    <tr>\n",
              "      <th>7</th>\n",
              "      <td>1965</td>\n",
              "      <td>1965.0</td>\n",
              "    </tr>\n",
              "    <tr>\n",
              "      <th>8</th>\n",
              "      <td>1915</td>\n",
              "      <td>1915.0</td>\n",
              "    </tr>\n",
              "    <tr>\n",
              "      <th>9</th>\n",
              "      <td>1945</td>\n",
              "      <td>1945.0</td>\n",
              "    </tr>\n",
              "    <tr>\n",
              "      <th>10</th>\n",
              "      <td>1988</td>\n",
              "      <td>1988.0</td>\n",
              "    </tr>\n",
              "    <tr>\n",
              "      <th>11</th>\n",
              "      <td>1967</td>\n",
              "      <td>1967.0</td>\n",
              "    </tr>\n",
              "    <tr>\n",
              "      <th>12</th>\n",
              "      <td>1993</td>\n",
              "      <td>1993.0</td>\n",
              "    </tr>\n",
              "    <tr>\n",
              "      <th>13</th>\n",
              "      <td>2012</td>\n",
              "      <td>2012.0</td>\n",
              "    </tr>\n",
              "    <tr>\n",
              "      <th>14</th>\n",
              "      <td>1990</td>\n",
              "      <td>1990.0</td>\n",
              "    </tr>\n",
              "    <tr>\n",
              "      <th>15</th>\n",
              "      <td>2002</td>\n",
              "      <td>2002.0</td>\n",
              "    </tr>\n",
              "    <tr>\n",
              "      <th>16</th>\n",
              "      <td>2000</td>\n",
              "      <td>2000.0</td>\n",
              "    </tr>\n",
              "    <tr>\n",
              "      <th>17</th>\n",
              "      <td>1924</td>\n",
              "      <td>1924.0</td>\n",
              "    </tr>\n",
              "    <tr>\n",
              "      <th>18</th>\n",
              "      <td>1928</td>\n",
              "      <td>1928.0</td>\n",
              "    </tr>\n",
              "    <tr>\n",
              "      <th>19</th>\n",
              "      <td>1920</td>\n",
              "      <td>1920.0</td>\n",
              "    </tr>\n",
              "    <tr>\n",
              "      <th>20</th>\n",
              "      <td>1981</td>\n",
              "      <td>1981.0</td>\n",
              "    </tr>\n",
              "    <tr>\n",
              "      <th>21</th>\n",
              "      <td>1904</td>\n",
              "      <td>1904.0</td>\n",
              "    </tr>\n",
              "    <tr>\n",
              "      <th>22</th>\n",
              "      <td>1994</td>\n",
              "      <td>1994.0</td>\n",
              "    </tr>\n",
              "    <tr>\n",
              "      <th>23</th>\n",
              "      <td>1956</td>\n",
              "      <td>1956.0</td>\n",
              "    </tr>\n",
              "  </tbody>\n",
              "</table>\n",
              "</div>\n",
              "      <button class=\"colab-df-convert\" onclick=\"convertToInteractive('df-4171ec3e-7dd0-4ffc-8d56-61df96a56f2d')\"\n",
              "              title=\"Convert this dataframe to an interactive table.\"\n",
              "              style=\"display:none;\">\n",
              "        \n",
              "  <svg xmlns=\"http://www.w3.org/2000/svg\" height=\"24px\"viewBox=\"0 0 24 24\"\n",
              "       width=\"24px\">\n",
              "    <path d=\"M0 0h24v24H0V0z\" fill=\"none\"/>\n",
              "    <path d=\"M18.56 5.44l.94 2.06.94-2.06 2.06-.94-2.06-.94-.94-2.06-.94 2.06-2.06.94zm-11 1L8.5 8.5l.94-2.06 2.06-.94-2.06-.94L8.5 2.5l-.94 2.06-2.06.94zm10 10l.94 2.06.94-2.06 2.06-.94-2.06-.94-.94-2.06-.94 2.06-2.06.94z\"/><path d=\"M17.41 7.96l-1.37-1.37c-.4-.4-.92-.59-1.43-.59-.52 0-1.04.2-1.43.59L10.3 9.45l-7.72 7.72c-.78.78-.78 2.05 0 2.83L4 21.41c.39.39.9.59 1.41.59.51 0 1.02-.2 1.41-.59l7.78-7.78 2.81-2.81c.8-.78.8-2.07 0-2.86zM5.41 20L4 18.59l7.72-7.72 1.47 1.35L5.41 20z\"/>\n",
              "  </svg>\n",
              "      </button>\n",
              "      \n",
              "  <style>\n",
              "    .colab-df-container {\n",
              "      display:flex;\n",
              "      flex-wrap:wrap;\n",
              "      gap: 12px;\n",
              "    }\n",
              "\n",
              "    .colab-df-convert {\n",
              "      background-color: #E8F0FE;\n",
              "      border: none;\n",
              "      border-radius: 50%;\n",
              "      cursor: pointer;\n",
              "      display: none;\n",
              "      fill: #1967D2;\n",
              "      height: 32px;\n",
              "      padding: 0 0 0 0;\n",
              "      width: 32px;\n",
              "    }\n",
              "\n",
              "    .colab-df-convert:hover {\n",
              "      background-color: #E2EBFA;\n",
              "      box-shadow: 0px 1px 2px rgba(60, 64, 67, 0.3), 0px 1px 3px 1px rgba(60, 64, 67, 0.15);\n",
              "      fill: #174EA6;\n",
              "    }\n",
              "\n",
              "    [theme=dark] .colab-df-convert {\n",
              "      background-color: #3B4455;\n",
              "      fill: #D2E3FC;\n",
              "    }\n",
              "\n",
              "    [theme=dark] .colab-df-convert:hover {\n",
              "      background-color: #434B5C;\n",
              "      box-shadow: 0px 1px 3px 1px rgba(0, 0, 0, 0.15);\n",
              "      filter: drop-shadow(0px 1px 2px rgba(0, 0, 0, 0.3));\n",
              "      fill: #FFFFFF;\n",
              "    }\n",
              "  </style>\n",
              "\n",
              "      <script>\n",
              "        const buttonEl =\n",
              "          document.querySelector('#df-4171ec3e-7dd0-4ffc-8d56-61df96a56f2d button.colab-df-convert');\n",
              "        buttonEl.style.display =\n",
              "          google.colab.kernel.accessAllowed ? 'block' : 'none';\n",
              "\n",
              "        async function convertToInteractive(key) {\n",
              "          const element = document.querySelector('#df-4171ec3e-7dd0-4ffc-8d56-61df96a56f2d');\n",
              "          const dataTable =\n",
              "            await google.colab.kernel.invokeFunction('convertToInteractive',\n",
              "                                                     [key], {});\n",
              "          if (!dataTable) return;\n",
              "\n",
              "          const docLinkHtml = 'Like what you see? Visit the ' +\n",
              "            '<a target=\"_blank\" href=https://colab.research.google.com/notebooks/data_table.ipynb>data table notebook</a>'\n",
              "            + ' to learn more about interactive tables.';\n",
              "          element.innerHTML = '';\n",
              "          dataTable['output_type'] = 'display_data';\n",
              "          await google.colab.output.renderOutput(dataTable, element);\n",
              "          const docLink = document.createElement('div');\n",
              "          docLink.innerHTML = docLinkHtml;\n",
              "          element.appendChild(docLink);\n",
              "        }\n",
              "      </script>\n",
              "    </div>\n",
              "  </div>\n",
              "  "
            ]
          },
          "metadata": {},
          "execution_count": 28
        }
      ]
    },
    {
      "cell_type": "code",
      "source": [
        "from sklearn import metrics\n",
        "from sklearn.metrics import mean_squared_error,r2_score\n",
        "print('Mean Squared Error:',mean_squared_error(y_test,y_pred))\n",
        "print('Root Mean Squared Error:',np.sqrt(mean_squared_error(y_test,y_pred)))\n",
        "print('r_2 statistic: %.2f ' % r2_score(y_test,y_pred))"
      ],
      "metadata": {
        "colab": {
          "base_uri": "https://localhost:8080/"
        },
        "id": "OKbpegT5KyCM",
        "outputId": "0e7e626d-5df8-4368-a476-de2e134ad190"
      },
      "execution_count": null,
      "outputs": [
        {
          "output_type": "stream",
          "name": "stdout",
          "text": [
            "Mean Squared Error: 0.0\n",
            "Root Mean Squared Error: 0.0\n",
            "r_2 statistic: 1.00 \n"
          ]
        }
      ]
    },
    {
      "cell_type": "code",
      "source": [
        "plt.plot(y_test,y_pred, color='blue',linewidth=3)"
      ],
      "metadata": {
        "colab": {
          "base_uri": "https://localhost:8080/",
          "height": 283
        },
        "id": "WK0TPFJOK1g7",
        "outputId": "f9c5aebb-93bd-41a3-b576-a66fcb3c05bd"
      },
      "execution_count": null,
      "outputs": [
        {
          "output_type": "execute_result",
          "data": {
            "text/plain": [
              "[<matplotlib.lines.Line2D at 0x7f96031fd310>]"
            ]
          },
          "metadata": {},
          "execution_count": 30
        },
        {
          "output_type": "display_data",
          "data": {
            "text/plain": [
              "<Figure size 432x288 with 1 Axes>"
            ],
            "image/png": "[encoded data removed]"
          },
          "metadata": {
            "needs_background": "light"
          }
        }
      ]
    },
    {
      "cell_type": "code",
      "source": [
        "dataset.head(10)"
      ],
      "metadata": {
        "colab": {
          "base_uri": "https://localhost:8080/",
          "height": 363
        },
        "id": "iOEJHVNqLBIo",
        "outputId": "7359070f-16c6-46a3-9c3e-1a90b021e738"
      },
      "execution_count": null,
      "outputs": [
        {
          "output_type": "execute_result",
          "data": {
            "text/plain": [
              "   Unnamed: 0  YEAR    JAN    FEB    MAR    APR    MAY    JUN    JUL    AUG  \\\n",
              "0           0  1901  17.99  19.43  23.49  26.41  28.28  28.60  27.49  26.98   \n",
              "1           1  1902  19.00  20.39  24.10  26.54  28.68  28.44  27.29  27.05   \n",
              "2           2  1903  18.32  19.79  22.46  26.03  27.93  28.41  28.04  26.63   \n",
              "3           3  1904  17.77  19.39  22.95  26.73  27.83  27.85  26.84  26.73   \n",
              "4           4  1905  17.40  17.79  21.78  24.84  28.32  28.69  27.67  27.47   \n",
              "5           5  1906  17.50  19.14  22.21  26.53  29.06  28.02  27.46  26.82   \n",
              "6           6  1907  19.27  19.42  22.03  26.98  27.52  27.66  27.28  26.38   \n",
              "7           7  1908  18.35  19.73  22.93  27.06  28.07  28.49  27.16  26.41   \n",
              "8           8  1909  17.79  19.05  23.40  25.76  27.97  27.67  26.56  26.43   \n",
              "9           9  1910  18.14  19.72  22.90  25.96  28.36  27.72  26.93  26.61   \n",
              "\n",
              "     SEP    OCT    NOV    DEC  \n",
              "0  26.26  25.08  21.73  18.95  \n",
              "1  25.95  24.37  21.33  18.78  \n",
              "2  26.34  24.57  20.96  18.29  \n",
              "3  25.84  24.36  21.07  18.84  \n",
              "4  26.29  26.16  22.07  18.71  \n",
              "5  26.23  24.75  21.93  19.55  \n",
              "6  26.26  24.72  22.11  18.46  \n",
              "7  25.74  24.25  21.06  18.15  \n",
              "8  25.47  24.37  22.01  18.86  \n",
              "9  25.98  24.04  20.72  18.05  "
            ],
            "text/html": [
              "\n",
              "  <div id=\"df-2b6f9123-28dd-408f-a96f-f3db3da993ff\">\n",
              "    <div class=\"colab-df-container\">\n",
              "      <div>\n",
              "<style scoped>\n",
              "    .dataframe tbody tr th:only-of-type {\n",
              "        vertical-align: middle;\n",
              "    }\n",
              "\n",
              "    .dataframe tbody tr th {\n",
              "        vertical-align: top;\n",
              "    }\n",
              "\n",
              "    .dataframe thead th {\n",
              "        text-align: right;\n",
              "    }\n",
              "</style>\n",
              "<table border=\"1\" class=\"dataframe\">\n",
              "  <thead>\n",
              "    <tr style=\"text-align: right;\">\n",
              "      <th></th>\n",
              "      <th>Unnamed: 0</th>\n",
              "      <th>YEAR</th>\n",
              "      <th>JAN</th>\n",
              "      <th>FEB</th>\n",
              "      <th>MAR</th>\n",
              "      <th>APR</th>\n",
              "      <th>MAY</th>\n",
              "      <th>JUN</th>\n",
              "      <th>JUL</th>\n",
              "      <th>AUG</th>\n",
              "      <th>SEP</th>\n",
              "      <th>OCT</th>\n",
              "      <th>NOV</th>\n",
              "      <th>DEC</th>\n",
              "    </tr>\n",
              "  </thead>\n",
              "  <tbody>\n",
              "    <tr>\n",
              "      <th>0</th>\n",
              "      <td>0</td>\n",
              "      <td>1901</td>\n",
              "      <td>17.99</td>\n",
              "      <td>19.43</td>\n",
              "      <td>23.49</td>\n",
              "      <td>26.41</td>\n",
              "      <td>28.28</td>\n",
              "      <td>28.60</td>\n",
              "      <td>27.49</td>\n",
              "      <td>26.98</td>\n",
              "      <td>26.26</td>\n",
              "      <td>25.08</td>\n",
              "      <td>21.73</td>\n",
              "      <td>18.95</td>\n",
              "    </tr>\n",
              "    <tr>\n",
              "      <th>1</th>\n",
              "      <td>1</td>\n",
              "      <td>1902</td>\n",
              "      <td>19.00</td>\n",
              "      <td>20.39</td>\n",
              "      <td>24.10</td>\n",
              "      <td>26.54</td>\n",
              "      <td>28.68</td>\n",
              "      <td>28.44</td>\n",
              "      <td>27.29</td>\n",
              "      <td>27.05</td>\n",
              "      <td>25.95</td>\n",
              "      <td>24.37</td>\n",
              "      <td>21.33</td>\n",
              "      <td>18.78</td>\n",
              "    </tr>\n",
              "    <tr>\n",
              "      <th>2</th>\n",
              "      <td>2</td>\n",
              "      <td>1903</td>\n",
              "      <td>18.32</td>\n",
              "      <td>19.79</td>\n",
              "      <td>22.46</td>\n",
              "      <td>26.03</td>\n",
              "      <td>27.93</td>\n",
              "      <td>28.41</td>\n",
              "      <td>28.04</td>\n",
              "      <td>26.63</td>\n",
              "      <td>26.34</td>\n",
              "      <td>24.57</td>\n",
              "      <td>20.96</td>\n",
              "      <td>18.29</td>\n",
              "    </tr>\n",
              "    <tr>\n",
              "      <th>3</th>\n",
              "      <td>3</td>\n",
              "      <td>1904</td>\n",
              "      <td>17.77</td>\n",
              "      <td>19.39</td>\n",
              "      <td>22.95</td>\n",
              "      <td>26.73</td>\n",
              "      <td>27.83</td>\n",
              "      <td>27.85</td>\n",
              "      <td>26.84</td>\n",
              "      <td>26.73</td>\n",
              "      <td>25.84</td>\n",
              "      <td>24.36</td>\n",
              "      <td>21.07</td>\n",
              "      <td>18.84</td>\n",
              "    </tr>\n",
              "    <tr>\n",
              "      <th>4</th>\n",
              "      <td>4</td>\n",
              "      <td>1905</td>\n",
              "      <td>17.40</td>\n",
              "      <td>17.79</td>\n",
              "      <td>21.78</td>\n",
              "      <td>24.84</td>\n",
              "      <td>28.32</td>\n",
              "      <td>28.69</td>\n",
              "      <td>27.67</td>\n",
              "      <td>27.47</td>\n",
              "      <td>26.29</td>\n",
              "      <td>26.16</td>\n",
              "      <td>22.07</td>\n",
              "      <td>18.71</td>\n",
              "    </tr>\n",
              "    <tr>\n",
              "      <th>5</th>\n",
              "      <td>5</td>\n",
              "      <td>1906</td>\n",
              "      <td>17.50</td>\n",
              "      <td>19.14</td>\n",
              "      <td>22.21</td>\n",
              "      <td>26.53</td>\n",
              "      <td>29.06</td>\n",
              "      <td>28.02</td>\n",
              "      <td>27.46</td>\n",
              "      <td>26.82</td>\n",
              "      <td>26.23</td>\n",
              "      <td>24.75</td>\n",
              "      <td>21.93</td>\n",
              "      <td>19.55</td>\n",
              "    </tr>\n",
              "    <tr>\n",
              "      <th>6</th>\n",
              "      <td>6</td>\n",
              "      <td>1907</td>\n",
              "      <td>19.27</td>\n",
              "      <td>19.42</td>\n",
              "      <td>22.03</td>\n",
              "      <td>26.98</td>\n",
              "      <td>27.52</td>\n",
              "      <td>27.66</td>\n",
              "      <td>27.28</td>\n",
              "      <td>26.38</td>\n",
              "      <td>26.26</td>\n",
              "      <td>24.72</td>\n",
              "      <td>22.11</td>\n",
              "      <td>18.46</td>\n",
              "    </tr>\n",
              "    <tr>\n",
              "      <th>7</th>\n",
              "      <td>7</td>\n",
              "      <td>1908</td>\n",
              "      <td>18.35</td>\n",
              "      <td>19.73</td>\n",
              "      <td>22.93</td>\n",
              "      <td>27.06</td>\n",
              "      <td>28.07</td>\n",
              "      <td>28.49</td>\n",
              "      <td>27.16</td>\n",
              "      <td>26.41</td>\n",
              "      <td>25.74</td>\n",
              "      <td>24.25</td>\n",
              "      <td>21.06</td>\n",
              "      <td>18.15</td>\n",
              "    </tr>\n",
              "    <tr>\n",
              "      <th>8</th>\n",
              "      <td>8</td>\n",
              "      <td>1909</td>\n",
              "      <td>17.79</td>\n",
              "      <td>19.05</td>\n",
              "      <td>23.40</td>\n",
              "      <td>25.76</td>\n",
              "      <td>27.97</td>\n",
              "      <td>27.67</td>\n",
              "      <td>26.56</td>\n",
              "      <td>26.43</td>\n",
              "      <td>25.47</td>\n",
              "      <td>24.37</td>\n",
              "      <td>22.01</td>\n",
              "      <td>18.86</td>\n",
              "    </tr>\n",
              "    <tr>\n",
              "      <th>9</th>\n",
              "      <td>9</td>\n",
              "      <td>1910</td>\n",
              "      <td>18.14</td>\n",
              "      <td>19.72</td>\n",
              "      <td>22.90</td>\n",
              "      <td>25.96</td>\n",
              "      <td>28.36</td>\n",
              "      <td>27.72</td>\n",
              "      <td>26.93</td>\n",
              "      <td>26.61</td>\n",
              "      <td>25.98</td>\n",
              "      <td>24.04</td>\n",
              "      <td>20.72</td>\n",
              "      <td>18.05</td>\n",
              "    </tr>\n",
              "  </tbody>\n",
              "</table>\n",
              "</div>\n",
              "      <button class=\"colab-df-convert\" onclick=\"convertToInteractive('df-2b6f9123-28dd-408f-a96f-f3db3da993ff')\"\n",
              "              title=\"Convert this dataframe to an interactive table.\"\n",
              "              style=\"display:none;\">\n",
              "        \n",
              "  <svg xmlns=\"http://www.w3.org/2000/svg\" height=\"24px\"viewBox=\"0 0 24 24\"\n",
              "       width=\"24px\">\n",
              "    <path d=\"M0 0h24v24H0V0z\" fill=\"none\"/>\n",
              "    <path d=\"M18.56 5.44l.94 2.06.94-2.06 2.06-.94-2.06-.94-.94-2.06-.94 2.06-2.06.94zm-11 1L8.5 8.5l.94-2.06 2.06-.94-2.06-.94L8.5 2.5l-.94 2.06-2.06.94zm10 10l.94 2.06.94-2.06 2.06-.94-2.06-.94-.94-2.06-.94 2.06-2.06.94z\"/><path d=\"M17.41 7.96l-1.37-1.37c-.4-.4-.92-.59-1.43-.59-.52 0-1.04.2-1.43.59L10.3 9.45l-7.72 7.72c-.78.78-.78 2.05 0 2.83L4 21.41c.39.39.9.59 1.41.59.51 0 1.02-.2 1.41-.59l7.78-7.78 2.81-2.81c.8-.78.8-2.07 0-2.86zM5.41 20L4 18.59l7.72-7.72 1.47 1.35L5.41 20z\"/>\n",
              "  </svg>\n",
              "      </button>\n",
              "      \n",
              "  <style>\n",
              "    .colab-df-container {\n",
              "      display:flex;\n",
              "      flex-wrap:wrap;\n",
              "      gap: 12px;\n",
              "    }\n",
              "\n",
              "    .colab-df-convert {\n",
              "      background-color: #E8F0FE;\n",
              "      border: none;\n",
              "      border-radius: 50%;\n",
              "      cursor: pointer;\n",
              "      display: none;\n",
              "      fill: #1967D2;\n",
              "      height: 32px;\n",
              "      padding: 0 0 0 0;\n",
              "      width: 32px;\n",
              "    }\n",
              "\n",
              "    .colab-df-convert:hover {\n",
              "      background-color: #E2EBFA;\n",
              "      box-shadow: 0px 1px 2px rgba(60, 64, 67, 0.3), 0px 1px 3px 1px rgba(60, 64, 67, 0.15);\n",
              "      fill: #174EA6;\n",
              "    }\n",
              "\n",
              "    [theme=dark] .colab-df-convert {\n",
              "      background-color: #3B4455;\n",
              "      fill: #D2E3FC;\n",
              "    }\n",
              "\n",
              "    [theme=dark] .colab-df-convert:hover {\n",
              "      background-color: #434B5C;\n",
              "      box-shadow: 0px 1px 3px 1px rgba(0, 0, 0, 0.15);\n",
              "      filter: drop-shadow(0px 1px 2px rgba(0, 0, 0, 0.3));\n",
              "      fill: #FFFFFF;\n",
              "    }\n",
              "  </style>\n",
              "\n",
              "      <script>\n",
              "        const buttonEl =\n",
              "          document.querySelector('#df-2b6f9123-28dd-408f-a96f-f3db3da993ff button.colab-df-convert');\n",
              "        buttonEl.style.display =\n",
              "          google.colab.kernel.accessAllowed ? 'block' : 'none';\n",
              "\n",
              "        async function convertToInteractive(key) {\n",
              "          const element = document.querySelector('#df-2b6f9123-28dd-408f-a96f-f3db3da993ff');\n",
              "          const dataTable =\n",
              "            await google.colab.kernel.invokeFunction('convertToInteractive',\n",
              "                                                     [key], {});\n",
              "          if (!dataTable) return;\n",
              "\n",
              "          const docLinkHtml = 'Like what you see? Visit the ' +\n",
              "            '<a target=\"_blank\" href=https://colab.research.google.com/notebooks/data_table.ipynb>data table notebook</a>'\n",
              "            + ' to learn more about interactive tables.';\n",
              "          element.innerHTML = '';\n",
              "          dataTable['output_type'] = 'display_data';\n",
              "          await google.colab.output.renderOutput(dataTable, element);\n",
              "          const docLink = document.createElement('div');\n",
              "          docLink.innerHTML = docLinkHtml;\n",
              "          element.appendChild(docLink);\n",
              "        }\n",
              "      </script>\n",
              "    </div>\n",
              "  </div>\n",
              "  "
            ]
          },
          "metadata": {},
          "execution_count": 31
        }
      ]
    },
    {
      "cell_type": "code",
      "source": [
        "#Splitting the data into Train and Test\n",
        "#from sklearn.cross_validation import train_test_split in earlier version\n",
        "from sklearn.model_selection import train_test_split \n",
        "xtrain, xtest, ytrain, ytest = train_test_split( x, y, test_size=1/3, random_state=0 )"
      ],
      "metadata": {
        "id": "K8yhDe6vLFzK"
      },
      "execution_count": null,
      "outputs": []
    },
    {
      "cell_type": "code",
      "source": [
        "#Fitting simple linear regression to the Training Set\n",
        "from sklearn.linear_model import LinearRegression \n",
        "regressor = LinearRegression()\n",
        "regressor.fit( xtrain, ytrain )"
      ],
      "metadata": {
        "colab": {
          "base_uri": "https://localhost:8080/"
        },
        "id": "05OFhr_CLcHy",
        "outputId": "5ea9988b-ac81-45e0-c9f6-0b8db7277ae2"
      },
      "execution_count": null,
      "outputs": [
        {
          "output_type": "execute_result",
          "data": {
            "text/plain": [
              "LinearRegression()"
            ]
          },
          "metadata": {},
          "execution_count": 35
        }
      ]
    },
    {
      "cell_type": "code",
      "source": [
        "regressor.coef_ , regressor.intercept_# y = mx + c , m is coef , c is intercept\n"
      ],
      "metadata": {
        "colab": {
          "base_uri": "https://localhost:8080/"
        },
        "id": "jOzVU1QmLgnf",
        "outputId": "bceb887b-2234-45ce-9da9-467180f3f911"
      },
      "execution_count": null,
      "outputs": [
        {
          "output_type": "execute_result",
          "data": {
            "text/plain": [
              "(array([-5.91373220e-03,  1.00591373e+00, -1.40859546e-15,  6.45317133e-16,\n",
              "        -1.04777298e-15,  1.57686364e-15, -7.05598774e-16,  2.69098979e-15,\n",
              "        -4.37150316e-16, -2.43728648e-16,  2.19615992e-15, -1.23685784e-15,\n",
              "         1.85615412e-16]), -11.24200490397675)"
            ]
          },
          "metadata": {},
          "execution_count": 36
        }
      ]
    },
    {
      "cell_type": "code",
      "source": [
        "actualValue = ytrain\n",
        "predictedValue = regressor.predict(xtrain) \n",
        "xtrain[0], actualValue[0] , predictedValue[0]"
      ],
      "metadata": {
        "colab": {
          "base_uri": "https://localhost:8080/"
        },
        "id": "umZ83sOuLl0y",
        "outputId": "00f564f5-7514-460c-f85d-5690b3bf67a0"
      },
      "execution_count": null,
      "outputs": [
        {
          "output_type": "execute_result",
          "data": {
            "text/plain": [
              "(array([ 102.  , 2003.  ,   18.6 ,   21.03,   23.62,   27.29,   28.64,\n",
              "          29.01,   27.53,   27.25,   26.75,   24.92,   22.17]), 2003, 2003.0)"
            ]
          },
          "metadata": {},
          "execution_count": 37
        }
      ]
    },
    {
      "cell_type": "code",
      "source": [
        "regressor.coef_ * xtrain[0] + regressor.intercept_ # y = mx + c"
      ],
      "metadata": {
        "colab": {
          "base_uri": "https://localhost:8080/"
        },
        "id": "45dcl5s_LpUP",
        "outputId": "64d0888d-05ca-4328-c31e-de21f02d7a3c"
      },
      "execution_count": null,
      "outputs": [
        {
          "output_type": "execute_result",
          "data": {
            "text/plain": [
              "array([ -11.84520559, 2003.60320068,  -11.2420049 ,  -11.2420049 ,\n",
              "        -11.2420049 ,  -11.2420049 ,  -11.2420049 ,  -11.2420049 ,\n",
              "        -11.2420049 ,  -11.2420049 ,  -11.2420049 ,  -11.2420049 ,\n",
              "        -11.2420049 ])"
            ]
          },
          "metadata": {},
          "execution_count": 38
        }
      ]
    },
    {
      "cell_type": "code",
      "source": [
        "np.sqrt ( sum( abs( actualValue**2 - predictedValue**2 ) ) ) / len( xtrain ) # RMSE\n",
        "# Root Mean Square Error"
      ],
      "metadata": {
        "colab": {
          "base_uri": "https://localhost:8080/"
        },
        "id": "WBgRhH2bLsgm",
        "outputId": "26704551-f0e1-4a3a-ab9f-a0756e4a04f3"
      },
      "execution_count": null,
      "outputs": [
        {
          "output_type": "execute_result",
          "data": {
            "text/plain": [
              "2.6535933990968626e-06"
            ]
          },
          "metadata": {},
          "execution_count": 39
        }
      ]
    },
    {
      "cell_type": "code",
      "source": [
        "import matplotlib.pyplot as plt\n",
        "\n",
        "x = range(100)\n",
        "y = range(100,200)\n",
        "fig = plt.figure()\n",
        "ax1 = fig.add_subplot(111)\n",
        "\n",
        "ax1.scatter(x[:4], y[:4], s=10, c='b', marker=\"s\", label='first')\n",
        "ax1.scatter(x[40:],y[40:], s=10, c='r', marker=\"o\", label='second')\n",
        "plt.legend(loc='upper left');\n",
        "plt.show()"
      ],
      "metadata": {
        "colab": {
          "base_uri": "https://localhost:8080/",
          "height": 265
        },
        "id": "QJqKTxlSLug_",
        "outputId": "9b2d2d14-c29c-4585-ad67-c86ce9d34ab6"
      },
      "execution_count": null,
      "outputs": [
        {
          "output_type": "display_data",
          "data": {
            "text/plain": [
              "<Figure size 432x288 with 1 Axes>"
            ],
            "image/png": "[encoded data removed]"
          },
          "metadata": {
            "needs_background": "light"
          }
        }
      ]
    },
    {
      "cell_type": "code",
      "source": [
        "import requests\n",
        "\n",
        "api_key = \"AAAAPPPPIIII_____KKKKEEEEYYYY\"  # Enter the API key you got from the OpenWeatherMap website\n",
        "base_url = \"http://api.openweathermap.org/data/2.5/weather?\"\n",
        "\n",
        "city_name = input(\"Enter city name : \")\n",
        "complete_url = base_url + \"appid=\" + 'd850f7f52bf19300a9eb4b0aa6b80f0d' + \"&q=\" + city_name  # This is to complete the base_url, you can also do this manually to checkout other weather data available\n",
        "response = requests.get(complete_url)\n",
        "x = response.json()\n",
        "\n",
        "if x[\"cod\"] != \"404\":\n",
        "    y = x[\"main\"]\n",
        "\n",
        "    current_temperature = y[\"temp\"]\n",
        "    z = x[\"weather\"]\n",
        "\n",
        "    weather_description = z[0][\"description\"]\n",
        "\n",
        "    print(\" Temperature (in kelvin unit) = \" +\n",
        "                    str(current_temperature) +\n",
        "          \"\\n description = \" +\n",
        "                    str(weather_description))\n",
        "\n",
        "else:\n",
        "    print(\" City Not Found \")"
      ],
      "metadata": {
        "colab": {
          "base_uri": "https://localhost:8080/"
        },
        "id": "G-2-vB2NxMlv",
        "outputId": "69d2b1e6-2bfb-4b6f-c9ea-09291b3c285a"
      },
      "execution_count": null,
      "outputs": [
        {
          "output_type": "stream",
          "name": "stdout",
          "text": [
            "Enter city name : bhilai\n",
            " Temperature (in kelvin unit) = 307.22\n",
            " description = overcast clouds\n"
          ]
        }
      ]
    }
  ]
}